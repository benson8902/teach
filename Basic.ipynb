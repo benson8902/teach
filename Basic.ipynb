{
 "cells": [
  {
   "cell_type": "markdown",
   "id": "38ff0883",
   "metadata": {},
   "source": [
    "# For loop"
   ]
  },
  {
   "cell_type": "code",
   "execution_count": null,
   "id": "71df8af5",
   "metadata": {},
   "outputs": [],
   "source": [
    "for i in range(3):\n",
    "    name = input('Your name? ')\n",
    "    if len(name) > 5:\n",
    "        print(\"Name must be 5 characters or less.\")\n",
    "        continue\n",
    "    print(\"Hello,\", name)"
   ]
  },
  {
   "cell_type": "code",
   "execution_count": null,
   "id": "d362b43d",
   "metadata": {},
   "outputs": [],
   "source": [
    "for i in range(3):\n",
    "    num = input(\"Please enter a number（0-9）：\")\n",
    "    if num.isdigit() and 0 <= int(num) <= 9:\n",
    "        print(\"The number you input is：\", num)\n",
    "    else:\n",
    "        print(\"Invalid input！\\n\")"
   ]
  },
  {
   "cell_type": "markdown",
   "id": "408dd44e",
   "metadata": {},
   "source": [
    "# While loop"
   ]
  },
  {
   "cell_type": "code",
   "execution_count": null,
   "id": "5f7a1b90",
   "metadata": {},
   "outputs": [],
   "source": [
    "while True:\n",
    "    print(\"Just Kidding!\")\n",
    "    break"
   ]
  },
  {
   "cell_type": "code",
   "execution_count": null,
   "id": "a984d762",
   "metadata": {},
   "outputs": [],
   "source": [
    "while True:\n",
    "    name = input('Your name? ')\n",
    "    print(\"Hello,\", name)\n",
    "    print(\"Out of while loop!\")"
   ]
  },
  {
   "cell_type": "markdown",
   "id": "51666d49",
   "metadata": {},
   "source": [
    "# 防呆"
   ]
  },
  {
   "cell_type": "code",
   "execution_count": null,
   "id": "88c1d46c",
   "metadata": {},
   "outputs": [],
   "source": [
    "while True:\n",
    "    name = input('Your name? ')\n",
    "    if len(name) > 5:\n",
    "        print(\"Name must be 5 characters or less.\")\n",
    "        continue\n",
    "    print(\"Hello,\", name)\n",
    "    break\n",
    "print(\"Out of while loop!\")"
   ]
  },
  {
   "cell_type": "code",
   "execution_count": null,
   "id": "86852345",
   "metadata": {},
   "outputs": [],
   "source": [
    "while True:\n",
    "    num = input(\"Please enter a number（0-9）：\")\n",
    "    if num.isdigit() and 0 <= int(num) <= 9:\n",
    "        break\n",
    "    else:\n",
    "        print(\"Invalid input！\\n\")\n",
    "print(\"The number you input is：\", num)\n"
   ]
  },
  {
   "cell_type": "markdown",
   "id": "5a8784ca",
   "metadata": {},
   "source": [
    "# 註解"
   ]
  },
  {
   "cell_type": "code",
   "execution_count": null,
   "id": "af787f8e",
   "metadata": {},
   "outputs": [],
   "source": [
    "# This is annotation\n",
    "# You can write anything here\n",
    "'''This is annotation too, you can write antything here. But it will show your annotation under this column'''"
   ]
  },
  {
   "cell_type": "markdown",
   "id": "65080c15",
   "metadata": {},
   "source": [
    "# Random"
   ]
  },
  {
   "cell_type": "code",
   "execution_count": null,
   "id": "80dc9729",
   "metadata": {},
   "outputs": [],
   "source": [
    "import random"
   ]
  },
  {
   "cell_type": "code",
   "execution_count": null,
   "id": "bffb184a",
   "metadata": {},
   "outputs": [],
   "source": [
    "# In this package you will get a int number\n",
    "random.randrange(0, 10)"
   ]
  },
  {
   "cell_type": "markdown",
   "id": "cb9ff433",
   "metadata": {},
   "source": [
    "# String"
   ]
  },
  {
   "cell_type": "code",
   "execution_count": null,
   "id": "7d5ab4da",
   "metadata": {},
   "outputs": [],
   "source": [
    "user1 = [\"Jason\", 23]\n",
    "#type(user1)\n",
    "user2 = [\"Kevin\", 67]\n",
    "user3 = [\"Julia\", 20]\n",
    "users = [user1, user2, user3]"
   ]
  },
  {
   "cell_type": "code",
   "execution_count": null,
   "id": "1ed08f98",
   "metadata": {},
   "outputs": [],
   "source": [
    "print(users)\n",
    "print(users[0])\n",
    "print(users[0][0])\n",
    "print(users[0][0][0])\n",
    "#type(users)"
   ]
  },
  {
   "cell_type": "code",
   "execution_count": null,
   "id": "d1a9077b",
   "metadata": {},
   "outputs": [],
   "source": [
    "users.append([\"Monkey\", 0])\n",
    "users"
   ]
  },
  {
   "cell_type": "code",
   "execution_count": null,
   "id": "21095890",
   "metadata": {},
   "outputs": [],
   "source": [
    "users.reverse()"
   ]
  },
  {
   "cell_type": "code",
   "execution_count": null,
   "id": "5d3645a5",
   "metadata": {},
   "outputs": [],
   "source": [
    "users"
   ]
  },
  {
   "cell_type": "code",
   "execution_count": null,
   "id": "c2421c75",
   "metadata": {},
   "outputs": [],
   "source": [
    "type(user1[0])\n",
    "name = user1[0]"
   ]
  },
  {
   "cell_type": "code",
   "execution_count": null,
   "id": "8b1b9ab4",
   "metadata": {},
   "outputs": [],
   "source": [
    "#user1[0][-1]\n",
    "name[-1]"
   ]
  },
  {
   "cell_type": "code",
   "execution_count": null,
   "id": "386cce34",
   "metadata": {},
   "outputs": [],
   "source": [
    "#user1[0][-1]\n",
    "# cause index start with 0\n",
    "name[1:3]"
   ]
  },
  {
   "cell_type": "markdown",
   "id": "6087f12a",
   "metadata": {},
   "source": [
    "# Sorted"
   ]
  },
  {
   "cell_type": "code",
   "execution_count": null,
   "id": "f2ae72dc",
   "metadata": {},
   "outputs": [],
   "source": [
    "x = [4, 6, 2, 1, 7, 9]\n",
    "y = sorted(x)\n",
    "print(x)\n",
    "print(y)"
   ]
  },
  {
   "cell_type": "code",
   "execution_count": null,
   "id": "3839ab79",
   "metadata": {},
   "outputs": [],
   "source": [
    "name_sort = ['Cindy', 'Ali', 'Julia']\n",
    "name_sort_small = ['Cindy', 'ali', 'Julia']\n",
    "name_sort"
   ]
  },
  {
   "cell_type": "code",
   "execution_count": null,
   "id": "be7aabcc",
   "metadata": {},
   "outputs": [],
   "source": [
    "sorted(name_sort)"
   ]
  },
  {
   "cell_type": "code",
   "execution_count": null,
   "id": "1a8fc454",
   "metadata": {},
   "outputs": [],
   "source": [
    "sorted(name_sort_small)"
   ]
  },
  {
   "cell_type": "code",
   "execution_count": null,
   "id": "30068ea1",
   "metadata": {},
   "outputs": [],
   "source": [
    "for i in range(10):\n",
    "    if i % 2 == 1: # Remainder\n",
    "        print(i, \"Remainder is 1\")\n",
    "    if i / 2 == 0: # Divide\n",
    "        print(i)"
   ]
  },
  {
   "cell_type": "markdown",
   "id": "d990637e",
   "metadata": {},
   "source": [
    "# Tuple v.s. List"
   ]
  },
  {
   "cell_type": "code",
   "execution_count": null,
   "id": "178c4f3b",
   "metadata": {},
   "outputs": [],
   "source": [
    "score_T = (90, 80, 60, 70, \"nice\")\n",
    "score_L = [90, 80, 60, 70]"
   ]
  },
  {
   "cell_type": "code",
   "execution_count": null,
   "id": "5bace2f0",
   "metadata": {},
   "outputs": [],
   "source": [
    "# 取得的用法跟list一樣\n",
    "score_T[0]"
   ]
  },
  {
   "cell_type": "code",
   "execution_count": null,
   "id": "d8613907",
   "metadata": {
    "scrolled": true
   },
   "outputs": [],
   "source": [
    "len(score_L)"
   ]
  },
  {
   "cell_type": "code",
   "execution_count": null,
   "id": "bf55b496",
   "metadata": {},
   "outputs": [],
   "source": [
    "# if we create tuple, then we cant add, modify or delete."
   ]
  },
  {
   "cell_type": "code",
   "execution_count": null,
   "id": "9ff8e84b",
   "metadata": {},
   "outputs": [],
   "source": [
    "# tuple就是可以防止我們的資料型態被修改"
   ]
  },
  {
   "cell_type": "markdown",
   "id": "28bd39fe",
   "metadata": {},
   "source": [
    "# Function"
   ]
  },
  {
   "cell_type": "code",
   "execution_count": null,
   "id": "afe98b2d",
   "metadata": {},
   "outputs": [],
   "source": [
    "def plus(x, y):\n",
    "    return x + y"
   ]
  },
  {
   "cell_type": "code",
   "execution_count": null,
   "id": "54ea4f4f",
   "metadata": {},
   "outputs": [],
   "source": [
    "plus(3, 5)"
   ]
  },
  {
   "cell_type": "markdown",
   "id": "37e43b85",
   "metadata": {},
   "source": [
    "# Dictionary"
   ]
  },
  {
   "cell_type": "code",
   "execution_count": null,
   "id": "76b0c883",
   "metadata": {},
   "outputs": [],
   "source": [
    "# key and value"
   ]
  },
  {
   "cell_type": "code",
   "execution_count": null,
   "id": "0068b5c9",
   "metadata": {},
   "outputs": [],
   "source": [
    "math = {\"Julia\": 80, \"Kevin\": 30, \"Jason\": 100}\n",
    "math[\"Julia\"]"
   ]
  },
  {
   "cell_type": "code",
   "execution_count": null,
   "id": "1cb3f89c",
   "metadata": {},
   "outputs": [],
   "source": [
    "math[\"Ivy\"] = 80"
   ]
  },
  {
   "cell_type": "code",
   "execution_count": null,
   "id": "839283ae",
   "metadata": {},
   "outputs": [],
   "source": [
    "math"
   ]
  },
  {
   "cell_type": "markdown",
   "id": "a540e8b2",
   "metadata": {},
   "source": [
    "# Nest For and Nest While"
   ]
  },
  {
   "cell_type": "code",
   "execution_count": null,
   "id": "0950994d",
   "metadata": {},
   "outputs": [],
   "source": [
    "for i in range(3): #row\n",
    "    for j in range(2): #column\n",
    "        print(i,j)"
   ]
  },
  {
   "cell_type": "markdown",
   "id": "b9e1bf32",
   "metadata": {},
   "source": [
    "# 時間允許的話 BFS DFS稍微帶一下"
   ]
  },
  {
   "cell_type": "code",
   "execution_count": null,
   "id": "00bf344e",
   "metadata": {},
   "outputs": [],
   "source": []
  },
  {
   "cell_type": "code",
   "execution_count": null,
   "id": "6a342db9",
   "metadata": {},
   "outputs": [],
   "source": []
  }
 ],
 "metadata": {
  "kernelspec": {
   "display_name": "Python 3 (ipykernel)",
   "language": "python",
   "name": "python3"
  },
  "language_info": {
   "codemirror_mode": {
    "name": "ipython",
    "version": 3
   },
   "file_extension": ".py",
   "mimetype": "text/x-python",
   "name": "python",
   "nbconvert_exporter": "python",
   "pygments_lexer": "ipython3",
   "version": "3.11.4"
  }
 },
 "nbformat": 4,
 "nbformat_minor": 5
}
